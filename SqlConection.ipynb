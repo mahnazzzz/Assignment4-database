{
 "cells": [
  {
   "cell_type": "code",
   "execution_count": null,
   "metadata": {
    "collapsed": true
   },
   "outputs": [],
   "source": [
    "\n",
    "import sys\n",
    "import mysql.connector\n",
    "\n",
    "def myconnect(user, pw):\n",
    "        conn = mysql.connector.connect( host='localhost', database='world',user=user, password=pw)\n",
    "        conn.autocommit = True\n",
    "        return conn   \n",
    "\n",
    "rootconn = myconnect('root','deterentysker!42snapsnap')\n",
    "\n",
    "def sqlQuery(sqlString, conn=rootconn):\n",
    "    try:\n",
    "        cursor = conn.cursor()\n",
    "        cursor.execute(sqlString)\n",
    "        res = cursor.fetchall()\n",
    "        return res\n",
    "    except Exception as ex:\n",
    "        print(str(ex), file=sys.stderr)\n",
    "    finally:    \n",
    "        cursor.close()\n",
    "\n",
    "def sqlDo(sqlString, conn=rootconn):\n",
    "    try:\n",
    "        cursor = conn.cursor()\n",
    "        cursor.execute(sqlString)\n",
    "        res = cursor.fetchwarnings()\n",
    "        return res\n",
    "    except Exception as ex:\n",
    "        print(str(ex), file=sys.stderr)\n",
    "    finally:    \n",
    "        cursor.close()\n",
    "\n",
    "\"Done\""
   ]
  }
 ],
 "metadata": {
  "kernelspec": {
   "display_name": "Python 2",
   "language": "python",
   "name": "python2"
  },
  "language_info": {
   "codemirror_mode": {
    "name": "ipython",
    "version": 2
   },
   "file_extension": ".py",
   "mimetype": "text/x-python",
   "name": "python",
   "nbconvert_exporter": "python",
   "pygments_lexer": "ipython2",
   "version": "2.7.6"
  }
 },
 "nbformat": 4,
 "nbformat_minor": 0
}
